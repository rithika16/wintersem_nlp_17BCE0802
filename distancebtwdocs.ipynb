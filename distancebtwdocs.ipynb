{
 "cells": [
  {
   "cell_type": "code",
   "execution_count": 1,
   "metadata": {},
   "outputs": [],
   "source": [
    "import pandas as pd\n",
    "import numpy as np\n",
    "import nltk\n",
    "import sklearn"
   ]
  },
  {
   "cell_type": "code",
   "execution_count": 2,
   "metadata": {},
   "outputs": [],
   "source": [
    "text1=\"NLP class is so awesome that I love all the tasks.\"\n",
    "text2=\"NLP class is so awesome.\"\n",
    "text3=\"i had biryani for lunch\"\n",
    "text4=\"NLP class is so awesome that I love all the tasks given by our mam\"\n",
    "texts=[text1,text4,text2,text3] "
   ]
  },
  {
   "cell_type": "code",
   "execution_count": 3,
   "metadata": {},
   "outputs": [],
   "source": [
    "#textpreprocessing\n",
    "texts_token=[]\n",
    "for i in texts:\n",
    "    text_token=nltk.word_tokenize(i)\n",
    "    texts_token.append(text_token)"
   ]
  },
  {
   "cell_type": "code",
   "execution_count": 4,
   "metadata": {},
   "outputs": [
    {
     "name": "stdout",
     "output_type": "stream",
     "text": [
      "[['NLP', 'class', 'is', 'so', 'awesome', 'that', 'I', 'love', 'all', 'the', 'tasks', '.'], ['NLP', 'class', 'is', 'so', 'awesome', 'that', 'I', 'love', 'all', 'the', 'tasks', 'given', 'by', 'our', 'mam'], ['NLP', 'class', 'is', 'so', 'awesome', '.'], ['i', 'had', 'biryani', 'for', 'lunch']]\n"
     ]
    }
   ],
   "source": [
    "print(texts_token)"
   ]
  },
  {
   "cell_type": "code",
   "execution_count": 5,
   "metadata": {},
   "outputs": [
    {
     "name": "stdout",
     "output_type": "stream",
     "text": [
      "All tokens:\n",
      "['NLP', 'class', 'is', 'so', 'awesome', 'that', 'I', 'love', 'all', 'the', 'tasks', '.', 'NLP', 'class', 'is', 'so', 'awesome', 'that', 'I', 'love', 'all', 'the', 'tasks', 'given', 'by', 'our', 'mam', 'NLP', 'class', 'is', 'so', 'awesome', '.', 'i', 'had', 'biryani', 'for', 'lunch']\n"
     ]
    }
   ],
   "source": [
    "from numpy import argmax\n",
    "def transform(texts_token):\n",
    "    tokens=[]\n",
    "    for w in texts_token:\n",
    "        for i in w:\n",
    "            tokens.append(i)\n",
    "    print(\"All tokens:\")\n",
    "    print(tokens)\n",
    "transformed_results=transform(texts_token)"
   ]
  },
  {
   "cell_type": "code",
   "execution_count": 7,
   "metadata": {},
   "outputs": [
    {
     "name": "stdout",
     "output_type": "stream",
     "text": [
      "All tokens:\n",
      "['NLP', 'class', 'is', 'so', 'awesome', 'that', 'I', 'love', 'all', 'the', 'tasks', '.', 'NLP', 'class', 'is', 'so', 'awesome', 'that', 'I', 'love', 'all', 'the', 'tasks', 'given', 'by', 'our', 'mam', 'NLP', 'class', 'is', 'so', 'awesome', '.', 'i', 'had', 'biryani', 'for', 'lunch']\n",
      "[[ 4]\n",
      " [12]\n",
      " [ 8]\n",
      " [ 2]\n",
      " [ 9]\n",
      " [ 5]\n",
      " [10]\n",
      " [19]\n",
      " [15]\n",
      " [16]\n",
      " [ 0]\n",
      " [14]\n",
      " [20]\n",
      " [ 7]\n",
      " [17]\n",
      " [ 1]\n",
      " [ 3]\n",
      " [18]\n",
      " [ 6]\n",
      " [13]\n",
      " [11]]\n",
      "\n",
      "Original Input: ['NLP', 'class', 'is', 'so', 'awesome', 'that', 'I', 'love', 'all', 'the', 'tasks', '.']\n",
      "after label-encoding: [ 2  7 12 17  4 19  1 13  3 20 18  0]\n",
      "after one hot encoding it:    (0, 2)\t1.0\n",
      "  (1, 7)\t1.0\n",
      "  (2, 12)\t1.0\n",
      "  (3, 17)\t1.0\n",
      "  (4, 4)\t1.0\n",
      "  (5, 19)\t1.0\n",
      "  (6, 1)\t1.0\n",
      "  (7, 13)\t1.0\n",
      "  (8, 3)\t1.0\n",
      "  (9, 20)\t1.0\n",
      "  (10, 18)\t1.0\n",
      "  (11, 0)\t1.0\n",
      "\n",
      "Original Input: ['NLP', 'class', 'is', 'so', 'awesome', 'that', 'I', 'love', 'all', 'the', 'tasks', 'given', 'by', 'our', 'mam']\n",
      "after label-encoding: [ 2  7 12 17  4 19  1 13  3 20 18  9  6 16 15]\n",
      "after one hot encoding it:    (0, 2)\t1.0\n",
      "  (1, 7)\t1.0\n",
      "  (2, 12)\t1.0\n",
      "  (3, 17)\t1.0\n",
      "  (4, 4)\t1.0\n",
      "  (5, 19)\t1.0\n",
      "  (6, 1)\t1.0\n",
      "  (7, 13)\t1.0\n",
      "  (8, 3)\t1.0\n",
      "  (9, 20)\t1.0\n",
      "  (10, 18)\t1.0\n",
      "  (11, 9)\t1.0\n",
      "  (12, 6)\t1.0\n",
      "  (13, 16)\t1.0\n",
      "  (14, 15)\t1.0\n",
      "\n",
      "Original Input: ['NLP', 'class', 'is', 'so', 'awesome', '.']\n",
      "after label-encoding: [ 2  7 12 17  4  0]\n",
      "after one hot encoding it:    (0, 2)\t1.0\n",
      "  (1, 7)\t1.0\n",
      "  (2, 12)\t1.0\n",
      "  (3, 17)\t1.0\n",
      "  (4, 4)\t1.0\n",
      "  (5, 0)\t1.0\n",
      "\n",
      "Original Input: ['i', 'had', 'biryani', 'for', 'lunch']\n",
      "after label-encoding: [11 10  5  8 14]\n",
      "after one hot encoding it:    (0, 11)\t1.0\n",
      "  (1, 10)\t1.0\n",
      "  (2, 5)\t1.0\n",
      "  (3, 8)\t1.0\n",
      "  (4, 14)\t1.0\n"
     ]
    }
   ],
   "source": [
    "from numpy import argmax\n",
    "def transform(texts_token):\n",
    "    tokens=[]\n",
    "    for w in texts_token:\n",
    "        for i in w:\n",
    "            tokens.append(i)\n",
    "    print(\"All tokens:\")\n",
    "    print(tokens)\n",
    "    \n",
    "    \n",
    "    results=[]\n",
    "    label_enc=sklearn.preprocessing.LabelEncoder()     #defining label encoder to encode values between 0 and 1\n",
    "    onehot_enc=sklearn.preprocessing.OneHotEncoder(categories='auto')   #defining onehotencoder to store them in hotarray\n",
    "    \n",
    "    all_encoded_tokens=label_enc.fit_transform(list(set(tokens))) \n",
    "    #fits the label encoder to unique words in token and returns fitted labels\n",
    "    all_encoded_tokens=all_encoded_tokens.reshape(len(all_encoded_tokens),1) #reshaping it\n",
    "    print(all_encoded_tokens)\n",
    "    onehot_enc.fit(all_encoded_tokens)  #fitting onehotencoder\n",
    "    \n",
    "    \n",
    "    for text_token in texts_token:\n",
    "        print()\n",
    "        print(\"Original Input:\",text_token)\n",
    "        \n",
    "        encoded_words=label_enc.transform(text_token)\n",
    "        print(\"after label-encoding:\",encoded_words)\n",
    "        \n",
    "        encoded_words=onehot_enc.transform(encoded_words.reshape(len(encoded_words),1))\n",
    "        print(\"after one hot encoding it: \",encoded_words)\n",
    "        \n",
    "        results.append(np.sum(encoded_words.toarray(),axis=0))\n",
    "    return results\n",
    "    \n",
    "    \n",
    "transformed_results=transform(texts_token)"
   ]
  },
  {
   "cell_type": "code",
   "execution_count": 8,
   "metadata": {},
   "outputs": [
    {
     "name": "stdout",
     "output_type": "stream",
     "text": [
      "Main sentence:  NLP class is so awesome that I love all the tasks.\n",
      "\n",
      "Finding cosine similarity between texts:\n",
      "\n",
      "compared sentence:  NLP class is so awesome that I love all the tasks.\n",
      "Score: 1.00\n",
      "--------\n",
      "compared sentence:  NLP class is so awesome that I love all the tasks given by our mam\n",
      "Score: 0.82\n",
      "--------\n",
      "compared sentence:  NLP class is so awesome.\n",
      "Score: 0.71\n",
      "--------\n",
      "compared sentence:  i had biryani for lunch\n",
      "Score: 0.00\n",
      "--------\n"
     ]
    }
   ],
   "source": [
    "#finding cosine similarity\n",
    "print('Main sentence: ',texts[0])\n",
    "print()\n",
    "print(\"Finding cosine similarity between texts:\")\n",
    "print()\n",
    "for i,text in enumerate(texts):\n",
    "    score=sklearn.metrics.pairwise.cosine_similarity([transformed_results[i]],[transformed_results[0]])\n",
    "    print('compared sentence: ',text)\n",
    "    print('Score: %.2f'% (score))\n",
    "    print('--------')\n",
    "    #Cosine similarity says angle between texts.\n",
    "    #if both texts are in the same direction,it means they are similar. \n",
    "    #so score=1, means same direction texts, if score=0, totally opposite. score always lies between 0 and 1."
   ]
  },
  {
   "cell_type": "code",
   "execution_count": null,
   "metadata": {},
   "outputs": [],
   "source": []
  }
 ],
 "metadata": {
  "kernelspec": {
   "display_name": "Python 3",
   "language": "python",
   "name": "python3"
  },
  "language_info": {
   "codemirror_mode": {
    "name": "ipython",
    "version": 3
   },
   "file_extension": ".py",
   "mimetype": "text/x-python",
   "name": "python",
   "nbconvert_exporter": "python",
   "pygments_lexer": "ipython3",
   "version": "3.7.4"
  }
 },
 "nbformat": 4,
 "nbformat_minor": 2
}
